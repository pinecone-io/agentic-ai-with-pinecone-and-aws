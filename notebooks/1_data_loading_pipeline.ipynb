{
 "cells": [
  {
   "attachments": {},
   "cell_type": "markdown",
   "metadata": {},
   "source": [
    "[![Open nbviewer](https://raw.githubusercontent.com/pinecone-io/examples/master/assets/nbviewer-shield.svg)](https://nbviewer.org/github/pinecone-io/examples/blob/master/learn/generation/aws/sagemaker/sagemaker-pinecone-rag.ipynb)"
   ]
  },
  {
   "attachments": {},
   "cell_type": "markdown",
   "metadata": {},
   "source": [
    "# Module 01 - Data Loading\n"
   ]
  },
  {
   "attachments": {},
   "cell_type": "markdown",
   "metadata": {},
   "source": [
    "This module contains notebook code to:\n",
    "* Create the Pinecone Index\n",
    "* Parse the data\n",
    "* Convert to vectors - chunking & embedding\n",
    "* Upload the vectors to Pinecone\n"
   ]
  },
  {
   "attachments": {},
   "cell_type": "markdown",
   "metadata": {},
   "source": [
    "### Install required libraries"
   ]
  },
  {
   "cell_type": "code",
   "execution_count": null,
   "metadata": {
    "collapsed": false,
    "jupyter": {
     "outputs_hidden": false
    },
    "pycharm": {
     "name": "#%%\n"
    },
    "tags": []
   },
   "outputs": [],
   "source": [
    "%pip install --quiet --upgrade \\\n",
    "    pinecone \\\n",
    "    tqdm \\\n",
    "    boto3 \\\n",
    "    botocore"
   ]
  },
  {
   "attachments": {},
   "cell_type": "markdown",
   "metadata": {},
   "source": [
    "To begin, we will initialize Amazon Bedrock and Pinecone that we'll need to use throughout the walkthrough."
   ]
  },
  {
   "cell_type": "code",
   "execution_count": null,
   "metadata": {},
   "outputs": [],
   "source": [
    "# Standard library imports\n",
    "import re\n",
    "import time\n",
    "import getpass\n",
    "import json\n",
    "\n",
    "# Third-party imports\n",
    "from tqdm import tqdm\n",
    "\n",
    "# Pinecone and Rich libraries\n",
    "from pinecone import Pinecone\n",
    "from pinecone import ServerlessSpec\n",
    "\n",
    "# AWS Library imports\n",
    "import boto3\n",
    "from botocore.config import Config"
   ]
  },
  {
   "cell_type": "markdown",
   "metadata": {},
   "source": [
    "### Initialize Pinecone"
   ]
  },
  {
   "cell_type": "code",
   "execution_count": null,
   "metadata": {},
   "outputs": [],
   "source": [
    "PINECONE_API_KEY = getpass.getpass(\"Enter Pinecone API Key\")\n",
    "pc = Pinecone(api_key=PINECONE_API_KEY, source_tag=\"pinecone:agentic_ai_with_pinecone_and_aws:notebooks:1_data_loading_pipeline\")"
   ]
  },
  {
   "cell_type": "code",
   "execution_count": null,
   "metadata": {},
   "outputs": [],
   "source": [
    "index_name = 'agentic-ai-with-pinecone-and-aws'\n",
    "namespace = '__default__' # Namespaces are used to organize data in Pinecone, like for multi-tenant applications. We'll use the default namespace for this workshop."
   ]
  },
  {
   "cell_type": "code",
   "execution_count": null,
   "metadata": {},
   "outputs": [],
   "source": [
    "spec = ServerlessSpec(cloud='aws', region='us-east-1') #Provide Pinecone region that we selected in the 'Create Pinecone Index' section"
   ]
  },
  {
   "cell_type": "markdown",
   "metadata": {},
   "source": [
    "### Setup AWS environment\n",
    "\n",
    "If you're running this workshop as part of a Pinecone-hosted event, the Jupyter environment only has access to `BEDROCK_ACCESS_KEY` and `BEDROCK_SECRET_KEY`, so we need to assign these to the default keys that the Bedrock client will read from the environment.\n",
    "\n",
    "If you are not running this as part of a Pinecone-hosted event and running locally or in a Colab environment, you'll need to set `AWS_ACCESS_KEY_ID` and `AWS_SECRET_ACCESS_KEY` in your respective environment first. Then you can skip to the \"Initialize Bedrock client\" section below."
   ]
  },
  {
   "cell_type": "code",
   "execution_count": null,
   "metadata": {},
   "outputs": [],
   "source": [
    "import os\n",
    "\n",
    "# Set correct env vars because Instruqt workshop uses different keys\n",
    "#\n",
    "# Comment these two lines out if you are not running in\n",
    "# this in a Pinecone-hosted workshop event\n",
    "os.environ['AWS_ACCESS_KEY_ID'] = os.getenv('BEDROCK_ACCESS_KEY')\n",
    "os.environ['AWS_SECRET_ACCESS_KEY'] = os.getenv('BEDROCK_SECRET_KEY')"
   ]
  },
  {
   "cell_type": "markdown",
   "metadata": {},
   "source": [
    "### Initialize Bedrock client\n",
    "\n",
    "Now we can initialize the Bedrock client:"
   ]
  },
  {
   "cell_type": "code",
   "execution_count": null,
   "metadata": {},
   "outputs": [],
   "source": [
    "config = Config(connect_timeout=5, read_timeout=60, retries={\"total_max_attempts\": 20, \"mode\": \"adaptive\"})\n",
    "region = 'us-east-1'\n",
    "\n",
    "bedrock = boto3.client(\n",
    "                service_name='bedrock-runtime',\n",
    "                region_name=region,\n",
    "                endpoint_url=f'https://bedrock-runtime.{region}.amazonaws.com',\n",
    "                                    config=config)\n",
    "\n",
    "embedding_model_id = \"amazon.titan-embed-text-v2:0\""
   ]
  },
  {
   "cell_type": "markdown",
   "metadata": {},
   "source": [
    "### Create Pinecone Index"
   ]
  },
  {
   "cell_type": "code",
   "execution_count": null,
   "metadata": {},
   "outputs": [],
   "source": [
    "# get existing indexes\n",
    "existing_indexes = pc.list_indexes().names()\n",
    "\n",
    "# check if index already exists (it shouldn't if this is first time)\n",
    "if index_name not in existing_indexes:\n",
    "    # if does not exist, create index\n",
    "    pc.create_index(\n",
    "        index_name,\n",
    "        dimension=1024, # Must match the dimension of the embedding model\n",
    "        metric='cosine',\n",
    "        spec=spec\n",
    "    )\n",
    "    # wait for index to be initialized\n",
    "    while not pc.describe_index(index_name).status['ready']:\n",
    "        time.sleep(1)\n"
   ]
  },
  {
   "cell_type": "code",
   "execution_count": null,
   "metadata": {},
   "outputs": [],
   "source": [
    "# connect to index\n",
    "index = pc.Index(index_name)\n",
    "time.sleep(1)\n",
    "# view index stats\n",
    "print(index.describe_index_stats())"
   ]
  },
  {
   "attachments": {},
   "cell_type": "markdown",
   "metadata": {
    "tags": []
   },
   "source": [
    "### Loading the data"
   ]
  },
  {
   "attachments": {},
   "cell_type": "markdown",
   "metadata": {},
   "source": [
    "Let us parse the raw data and store it into the Pinecone Index. Below is the step-by-step process. For this workshop we will be using 10-K filings of Comapaq company from year 1994 to 2002 which are in text documents."
   ]
  },
  {
   "cell_type": "markdown",
   "metadata": {},
   "source": [
    "- Step 0. Load the data from the files\n",
    "- Step 1. Parse the documents and extract the text \n",
    "- Step 2. Chunk the data and create vector embeddings\n",
    "- Step 3. Upsert the vector embeddings into the Pinecone Index"
   ]
  },
  {
   "cell_type": "markdown",
   "metadata": {},
   "source": [
    "![Embedding data to Pinecone](data:image/jpeg;base64,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)"
   ]
  },
  {
   "cell_type": "markdown",
   "metadata": {},
   "source": [
    "#### Step 0: Load the data from the files\n",
    "\n",
    "First, unzip the agentic_ai_with_pinecone_and_aws_dataset.zip file present in the data folder.\n",
    "\n",
    "⚠️ If you are running this as part of a Pinecone-hosted event, the data will already be unzipped for you.\n",
    "\n",
    "Next, load each file:"
   ]
  },
  {
   "cell_type": "code",
   "execution_count": null,
   "metadata": {},
   "outputs": [],
   "source": [
    "## Load Compaq's 10-K filings which are available in the data folder\n",
    "\n",
    "filing_years = ['1994', '1995', '1996', '1997', '1998', '1999', '2000', '2001', '2002']\n",
    "data_dir = '../data/agentic_ai_with_pinecone_and_aws_dataset'"
   ]
  },
  {
   "cell_type": "code",
   "execution_count": null,
   "metadata": {},
   "outputs": [],
   "source": [
    "texts = {\n",
    "    year: open(f\"{data_dir}/{year}.txt\", encoding=\"utf-8\").read()\n",
    "    for year in filing_years\n",
    "}"
   ]
  },
  {
   "cell_type": "markdown",
   "metadata": {},
   "source": [
    "### Step 1: Parse the documents and extract the data\n"
   ]
  },
  {
   "cell_type": "code",
   "execution_count": null,
   "metadata": {},
   "outputs": [],
   "source": [
    "#Remove unwanted tags, extract tables, and split the data into manageable chunks:\n",
    "def remove_unwanted_tags(text: str, keep_tags: list = None) -> str:\n",
    "    \"\"\"\n",
    "    Remove all HTML/XML tags from text except for specified tags to keep.\n",
    "\n",
    "    Args:\n",
    "        text (str): Input text containing tags.\n",
    "        keep_tags (list, optional): List of tag names to retain (without angle brackets).\n",
    "                                    Defaults to [\"TABLE\"].\n",
    "\n",
    "    Returns:\n",
    "        str: Cleaned text with unwanted tags removed.\n",
    "    \"\"\"\n",
    "    if keep_tags is None:\n",
    "        keep_tags = [\"TABLE\"]\n",
    "    keep_pattern = '|'.join(keep_tags)\n",
    "    pattern = re.compile(rf'<(?!/?(?:{keep_pattern})\\b)[^>]+>')\n",
    "    return pattern.sub('', text)\n",
    "\n",
    "\n",
    "def parse_10ks(year: str, document_text: str) -> str:\n",
    "    \"\"\"\n",
    "    Extract and clean the text enclosed within <TEXT> tags of a 10-K filing.\n",
    "\n",
    "    Args:\n",
    "        year (str): The filing year.\n",
    "        document_text (str): Raw text of the filing.\n",
    "\n",
    "    Returns:\n",
    "        str: Cleaned text within the <TEXT> tags, or an empty string if not found.\n",
    "    \"\"\"\n",
    "    pattern = re.compile(r\"<TEXT>(.*?)</TEXT>\", re.DOTALL)\n",
    "    matches = pattern.findall(document_text)\n",
    "    if not matches:\n",
    "        print(f\"Document text not found for year {year}\")\n",
    "        return \"\"\n",
    "    return remove_unwanted_tags(matches[0])"
   ]
  },
  {
   "cell_type": "markdown",
   "metadata": {},
   "source": [
    "### Step 2: Chunk the data and create vector embeddings\n"
   ]
  },
  {
   "cell_type": "code",
   "execution_count": null,
   "metadata": {},
   "outputs": [],
   "source": [
    "#Split the document text into table sections and non-table text:\n",
    "def chunk_by_table(document_text: str) -> dict:\n",
    "    \"\"\"\n",
    "    Split document text into table and non-table parts.\n",
    "\n",
    "    Args:\n",
    "        document_text (str): Raw document text.\n",
    "\n",
    "    Returns:\n",
    "        dict: Dictionary with keys 'tables' (list of table sections)\n",
    "              and 'texts' (concatenated non-table text).\n",
    "    \"\"\"\n",
    "    chunks = {\"tables\": [], \"texts\": []}\n",
    "    table_pattern = re.compile(r'(<TABLE.*?</TABLE>)', re.DOTALL | re.IGNORECASE)\n",
    "    parts = table_pattern.split(document_text)\n",
    "\n",
    "    for part in parts:\n",
    "        if not part.strip():\n",
    "            continue\n",
    "        if table_pattern.match(part):\n",
    "            chunks[\"tables\"].append(part)\n",
    "        else:\n",
    "            chunks[\"texts\"].append(part)\n",
    "\n",
    "    chunks[\"texts\"] = \"\".join(chunks[\"texts\"])\n",
    "    return chunks\n",
    "\n",
    "test_table_chunking = chunk_by_table(texts['1996'])\n",
    "\n",
    "print((test_table_chunking[\"tables\"][0]))\n"
   ]
  },
  {
   "cell_type": "code",
   "execution_count": null,
   "metadata": {},
   "outputs": [],
   "source": [
    "test_table_chunking = chunk_by_table(texts['1996'])\n",
    "\n",
    "parse_10ks(1994, test_table_chunking[\"texts\"])"
   ]
  },
  {
   "cell_type": "code",
   "execution_count": null,
   "metadata": {},
   "outputs": [],
   "source": [
    "# split into table/not table\n",
    "\n",
    "split_by_table = {\n",
    "    year: chunk_by_table(text)\n",
    "    for year, text in texts.items()\n",
    "} "
   ]
  },
  {
   "cell_type": "code",
   "execution_count": null,
   "metadata": {},
   "outputs": [],
   "source": [
    "# clean the non-table bits\n",
    "\n",
    "clean_texts = {\n",
    "    year: {\"tables\": chunk_data[\"tables\"],\n",
    "           \"texts\": parse_10ks(year, chunk_data[\"texts\"])}\n",
    "    for year, chunk_data in split_by_table.items()\n",
    "}"
   ]
  },
  {
   "cell_type": "code",
   "execution_count": null,
   "metadata": {},
   "outputs": [],
   "source": [
    "#Text Chunking\n",
    "CHAR_CHUNKS = 1500\n",
    "\n",
    "def chunk_text(text: str, chunk_size: int) -> list:\n",
    "    \"\"\"\n",
    "    Split text into chunks of ~chunk_size characters\n",
    "    without breaking words.\n",
    "\n",
    "    Args:\n",
    "        text (str): The text to be split.\n",
    "        chunk_size (int): Approx. max number of characters per chunk.\n",
    "\n",
    "    Returns:\n",
    "        list: A list of text chunks.\n",
    "    \"\"\"\n",
    "    words = text.split()\n",
    "    chunks = []\n",
    "    current_chunk = []\n",
    "\n",
    "    current_length = 0\n",
    "    for word in words:\n",
    "        # +1 for the space before word (except for first word)\n",
    "        word_length = len(word) + (1 if current_chunk else 0)\n",
    "\n",
    "        if current_length + word_length > chunk_size and current_chunk:\n",
    "            # commit the current chunk\n",
    "            chunks.append(\" \".join(current_chunk))\n",
    "            current_chunk = [word]\n",
    "            current_length = len(word)\n",
    "        else:\n",
    "            current_chunk.append(word)\n",
    "            current_length += word_length\n",
    "\n",
    "    # add the last chunk if non-empty\n",
    "    if current_chunk:\n",
    "        chunks.append(\" \".join(current_chunk))\n",
    "\n",
    "    return chunks\n",
    "\n",
    "# chunk the texts, ignore the tables\n",
    "\n",
    "chunked_texts = {\n",
    "    year: {\"tables\": chunk_data[\"tables\"],\n",
    "           \"texts\": chunk_text(chunk_data[\"texts\"], CHAR_CHUNKS)}\n",
    "    for year, chunk_data in clean_texts.items()\n",
    "}"
   ]
  },
  {
   "cell_type": "code",
   "execution_count": null,
   "metadata": {},
   "outputs": [],
   "source": [
    "print(chunked_texts['1995']['tables'])"
   ]
  },
  {
   "cell_type": "code",
   "execution_count": null,
   "metadata": {},
   "outputs": [],
   "source": [
    "## Transforming the data into records\n",
    "\n",
    "# reformat into records, make the ids for each chunk relate to the documentyear\n",
    "\n",
    "base_string = \"compaq\"\n",
    "# then, we add the document year and the chunk number to the base_string to create unique id\n",
    "\n",
    "all_text_records = []\n",
    "all_table_records = []\n",
    "\n",
    "for year, chunks in chunked_texts.items():\n",
    "    text_records = [\n",
    "        {\n",
    "            \"chunk_text\": chunk,\n",
    "            \"_id\": f\"{base_string}_{year}#text{num}\",\n",
    "            \"filed_year\": int(year),\n",
    "            \"chunk_type\": \"text\"\n",
    "        }\n",
    "        for num, chunk in enumerate(chunks[\"texts\"])\n",
    "    ]\n",
    "    table_records = [\n",
    "        {\n",
    "            \"chunk_text\": chunk,\n",
    "            \"_id\": f\"{base_string}_{year}#table{num}\",\n",
    "            \"filed_year\": int(year),\n",
    "            \"chunk_type\": \"table\"\n",
    "        }\n",
    "        for num, chunk in enumerate(chunks[\"tables\"])\n",
    "    ]\n",
    "    all_text_records.extend(text_records)\n",
    "    all_table_records.extend(table_records)"
   ]
  },
  {
   "cell_type": "markdown",
   "metadata": {},
   "source": [
    "### Step 3: Upsert the vector embeddings into the Pinecone Index\n"
   ]
  },
  {
   "cell_type": "code",
   "execution_count": null,
   "metadata": {},
   "outputs": [],
   "source": [
    "def text_embeddings(docs: list) -> list[float]:\n",
    "    \"\"\"\n",
    "    Generate text embedding by using Amazon Bedrock and the amazon.titan-embed-text-v2:0.\n",
    "    Args:\n",
    "        docs: list of strings of text to embed.\n",
    "    Returns:\n",
    "        dict: embeddings in float type.\n",
    "    \"\"\"\n",
    "\n",
    "    embeddings = []\n",
    "    for doc in docs:\n",
    "        body = json.dumps({\"inputText\": doc})\n",
    "\n",
    "        response = bedrock.invoke_model(\n",
    "            body=body,\n",
    "            modelId=embedding_model_id,\n",
    "        )\n",
    "\n",
    "        response_body = json.loads(response.get('body').read())\n",
    "        embedding = response_body.get('embedding')\n",
    "        embeddings.append(embedding)\n",
    "\n",
    "    return embeddings"
   ]
  },
  {
   "cell_type": "code",
   "execution_count": null,
   "metadata": {},
   "outputs": [],
   "source": [
    "# Embed in upsert into Pinecone 96 chunks at a time\n",
    "\n",
    "def upsert_in_batches(records, batch_size=96):\n",
    "    for i in tqdm(range(0, len(records), batch_size)):\n",
    "        batch = records[i:i+batch_size]\n",
    "        # Extract the record IDs for this batch\n",
    "        record_ids = [record[\"_id\"] for record in batch]\n",
    "\n",
    "        # Fetch existing records from the index for these IDs.\n",
    "        # (Assumes that the returned dict contains a \"vectors\" key with the current records.)\n",
    "        existing = index.fetch(ids=record_ids, namespace=namespace)\n",
    "        existing_ids = set(existing.vectors.keys())\n",
    "\n",
    "        # Filter out records that already exist.\n",
    "        records_to_upsert = [record for record in batch if record[\"_id\"] not in existing_ids]\n",
    "\n",
    "        if records_to_upsert:\n",
    "            # Prepare batch of texts for embedding\n",
    "            texts = [record[\"chunk_text\"] for record in records_to_upsert]\n",
    "            # Batch embedding\n",
    "            embeds_list = text_embeddings(docs=texts)\n",
    "            vectors = []\n",
    "            for record, embeds in zip(records_to_upsert, embeds_list):\n",
    "                vectors.append({\n",
    "                    \"id\": record[\"_id\"],\n",
    "                    \"values\": embeds,\n",
    "                    \"metadata\": {\n",
    "                        \"filed_year\": record[\"filed_year\"],\n",
    "                        \"chunk_type\": record[\"chunk_type\"],\n",
    "                        \"chunk_text\": record[\"chunk_text\"]\n",
    "                    }\n",
    "                })\n",
    "            if vectors:\n",
    "                index.upsert(vectors=vectors, namespace=namespace)\n",
    "                time.sleep(0.5)\n",
    "\n",
    "\n",
    "upsert_in_batches(all_text_records)"
   ]
  },
  {
   "cell_type": "code",
   "execution_count": null,
   "metadata": {},
   "outputs": [],
   "source": [
    "# view index stats\n",
    "print(index.describe_index_stats())"
   ]
  }
 ],
 "metadata": {
  "availableInstances": [
   {
    "_defaultOrder": 0,
    "_isFastLaunch": true,
    "category": "General purpose",
    "gpuNum": 0,
    "hideHardwareSpecs": false,
    "memoryGiB": 4,
    "name": "ml.t3.medium",
    "vcpuNum": 2
   },
   {
    "_defaultOrder": 1,
    "_isFastLaunch": false,
    "category": "General purpose",
    "gpuNum": 0,
    "hideHardwareSpecs": false,
    "memoryGiB": 8,
    "name": "ml.t3.large",
    "vcpuNum": 2
   },
   {
    "_defaultOrder": 2,
    "_isFastLaunch": false,
    "category": "General purpose",
    "gpuNum": 0,
    "hideHardwareSpecs": false,
    "memoryGiB": 16,
    "name": "ml.t3.xlarge",
    "vcpuNum": 4
   },
   {
    "_defaultOrder": 3,
    "_isFastLaunch": false,
    "category": "General purpose",
    "gpuNum": 0,
    "hideHardwareSpecs": false,
    "memoryGiB": 32,
    "name": "ml.t3.2xlarge",
    "vcpuNum": 8
   },
   {
    "_defaultOrder": 4,
    "_isFastLaunch": true,
    "category": "General purpose",
    "gpuNum": 0,
    "hideHardwareSpecs": false,
    "memoryGiB": 8,
    "name": "ml.m5.large",
    "vcpuNum": 2
   },
   {
    "_defaultOrder": 5,
    "_isFastLaunch": false,
    "category": "General purpose",
    "gpuNum": 0,
    "hideHardwareSpecs": false,
    "memoryGiB": 16,
    "name": "ml.m5.xlarge",
    "vcpuNum": 4
   },
   {
    "_defaultOrder": 6,
    "_isFastLaunch": false,
    "category": "General purpose",
    "gpuNum": 0,
    "hideHardwareSpecs": false,
    "memoryGiB": 32,
    "name": "ml.m5.2xlarge",
    "vcpuNum": 8
   },
   {
    "_defaultOrder": 7,
    "_isFastLaunch": false,
    "category": "General purpose",
    "gpuNum": 0,
    "hideHardwareSpecs": false,
    "memoryGiB": 64,
    "name": "ml.m5.4xlarge",
    "vcpuNum": 16
   },
   {
    "_defaultOrder": 8,
    "_isFastLaunch": false,
    "category": "General purpose",
    "gpuNum": 0,
    "hideHardwareSpecs": false,
    "memoryGiB": 128,
    "name": "ml.m5.8xlarge",
    "vcpuNum": 32
   },
   {
    "_defaultOrder": 9,
    "_isFastLaunch": false,
    "category": "General purpose",
    "gpuNum": 0,
    "hideHardwareSpecs": false,
    "memoryGiB": 192,
    "name": "ml.m5.12xlarge",
    "vcpuNum": 48
   },
   {
    "_defaultOrder": 10,
    "_isFastLaunch": false,
    "category": "General purpose",
    "gpuNum": 0,
    "hideHardwareSpecs": false,
    "memoryGiB": 256,
    "name": "ml.m5.16xlarge",
    "vcpuNum": 64
   },
   {
    "_defaultOrder": 11,
    "_isFastLaunch": false,
    "category": "General purpose",
    "gpuNum": 0,
    "hideHardwareSpecs": false,
    "memoryGiB": 384,
    "name": "ml.m5.24xlarge",
    "vcpuNum": 96
   },
   {
    "_defaultOrder": 12,
    "_isFastLaunch": false,
    "category": "General purpose",
    "gpuNum": 0,
    "hideHardwareSpecs": false,
    "memoryGiB": 8,
    "name": "ml.m5d.large",
    "vcpuNum": 2
   },
   {
    "_defaultOrder": 13,
    "_isFastLaunch": false,
    "category": "General purpose",
    "gpuNum": 0,
    "hideHardwareSpecs": false,
    "memoryGiB": 16,
    "name": "ml.m5d.xlarge",
    "vcpuNum": 4
   },
   {
    "_defaultOrder": 14,
    "_isFastLaunch": false,
    "category": "General purpose",
    "gpuNum": 0,
    "hideHardwareSpecs": false,
    "memoryGiB": 32,
    "name": "ml.m5d.2xlarge",
    "vcpuNum": 8
   },
   {
    "_defaultOrder": 15,
    "_isFastLaunch": false,
    "category": "General purpose",
    "gpuNum": 0,
    "hideHardwareSpecs": false,
    "memoryGiB": 64,
    "name": "ml.m5d.4xlarge",
    "vcpuNum": 16
   },
   {
    "_defaultOrder": 16,
    "_isFastLaunch": false,
    "category": "General purpose",
    "gpuNum": 0,
    "hideHardwareSpecs": false,
    "memoryGiB": 128,
    "name": "ml.m5d.8xlarge",
    "vcpuNum": 32
   },
   {
    "_defaultOrder": 17,
    "_isFastLaunch": false,
    "category": "General purpose",
    "gpuNum": 0,
    "hideHardwareSpecs": false,
    "memoryGiB": 192,
    "name": "ml.m5d.12xlarge",
    "vcpuNum": 48
   },
   {
    "_defaultOrder": 18,
    "_isFastLaunch": false,
    "category": "General purpose",
    "gpuNum": 0,
    "hideHardwareSpecs": false,
    "memoryGiB": 256,
    "name": "ml.m5d.16xlarge",
    "vcpuNum": 64
   },
   {
    "_defaultOrder": 19,
    "_isFastLaunch": false,
    "category": "General purpose",
    "gpuNum": 0,
    "hideHardwareSpecs": false,
    "memoryGiB": 384,
    "name": "ml.m5d.24xlarge",
    "vcpuNum": 96
   },
   {
    "_defaultOrder": 20,
    "_isFastLaunch": false,
    "category": "General purpose",
    "gpuNum": 0,
    "hideHardwareSpecs": true,
    "memoryGiB": 0,
    "name": "ml.geospatial.interactive",
    "supportedImageNames": [
     "sagemaker-geospatial-v1-0"
    ],
    "vcpuNum": 0
   },
   {
    "_defaultOrder": 21,
    "_isFastLaunch": true,
    "category": "Compute optimized",
    "gpuNum": 0,
    "hideHardwareSpecs": false,
    "memoryGiB": 4,
    "name": "ml.c5.large",
    "vcpuNum": 2
   },
   {
    "_defaultOrder": 22,
    "_isFastLaunch": false,
    "category": "Compute optimized",
    "gpuNum": 0,
    "hideHardwareSpecs": false,
    "memoryGiB": 8,
    "name": "ml.c5.xlarge",
    "vcpuNum": 4
   },
   {
    "_defaultOrder": 23,
    "_isFastLaunch": false,
    "category": "Compute optimized",
    "gpuNum": 0,
    "hideHardwareSpecs": false,
    "memoryGiB": 16,
    "name": "ml.c5.2xlarge",
    "vcpuNum": 8
   },
   {
    "_defaultOrder": 24,
    "_isFastLaunch": false,
    "category": "Compute optimized",
    "gpuNum": 0,
    "hideHardwareSpecs": false,
    "memoryGiB": 32,
    "name": "ml.c5.4xlarge",
    "vcpuNum": 16
   },
   {
    "_defaultOrder": 25,
    "_isFastLaunch": false,
    "category": "Compute optimized",
    "gpuNum": 0,
    "hideHardwareSpecs": false,
    "memoryGiB": 72,
    "name": "ml.c5.9xlarge",
    "vcpuNum": 36
   },
   {
    "_defaultOrder": 26,
    "_isFastLaunch": false,
    "category": "Compute optimized",
    "gpuNum": 0,
    "hideHardwareSpecs": false,
    "memoryGiB": 96,
    "name": "ml.c5.12xlarge",
    "vcpuNum": 48
   },
   {
    "_defaultOrder": 27,
    "_isFastLaunch": false,
    "category": "Compute optimized",
    "gpuNum": 0,
    "hideHardwareSpecs": false,
    "memoryGiB": 144,
    "name": "ml.c5.18xlarge",
    "vcpuNum": 72
   },
   {
    "_defaultOrder": 28,
    "_isFastLaunch": false,
    "category": "Compute optimized",
    "gpuNum": 0,
    "hideHardwareSpecs": false,
    "memoryGiB": 192,
    "name": "ml.c5.24xlarge",
    "vcpuNum": 96
   },
   {
    "_defaultOrder": 29,
    "_isFastLaunch": true,
    "category": "Accelerated computing",
    "gpuNum": 1,
    "hideHardwareSpecs": false,
    "memoryGiB": 16,
    "name": "ml.g4dn.xlarge",
    "vcpuNum": 4
   },
   {
    "_defaultOrder": 30,
    "_isFastLaunch": false,
    "category": "Accelerated computing",
    "gpuNum": 1,
    "hideHardwareSpecs": false,
    "memoryGiB": 32,
    "name": "ml.g4dn.2xlarge",
    "vcpuNum": 8
   },
   {
    "_defaultOrder": 31,
    "_isFastLaunch": false,
    "category": "Accelerated computing",
    "gpuNum": 1,
    "hideHardwareSpecs": false,
    "memoryGiB": 64,
    "name": "ml.g4dn.4xlarge",
    "vcpuNum": 16
   },
   {
    "_defaultOrder": 32,
    "_isFastLaunch": false,
    "category": "Accelerated computing",
    "gpuNum": 1,
    "hideHardwareSpecs": false,
    "memoryGiB": 128,
    "name": "ml.g4dn.8xlarge",
    "vcpuNum": 32
   },
   {
    "_defaultOrder": 33,
    "_isFastLaunch": false,
    "category": "Accelerated computing",
    "gpuNum": 4,
    "hideHardwareSpecs": false,
    "memoryGiB": 192,
    "name": "ml.g4dn.12xlarge",
    "vcpuNum": 48
   },
   {
    "_defaultOrder": 34,
    "_isFastLaunch": false,
    "category": "Accelerated computing",
    "gpuNum": 1,
    "hideHardwareSpecs": false,
    "memoryGiB": 256,
    "name": "ml.g4dn.16xlarge",
    "vcpuNum": 64
   },
   {
    "_defaultOrder": 35,
    "_isFastLaunch": false,
    "category": "Accelerated computing",
    "gpuNum": 1,
    "hideHardwareSpecs": false,
    "memoryGiB": 61,
    "name": "ml.p3.2xlarge",
    "vcpuNum": 8
   },
   {
    "_defaultOrder": 36,
    "_isFastLaunch": false,
    "category": "Accelerated computing",
    "gpuNum": 4,
    "hideHardwareSpecs": false,
    "memoryGiB": 244,
    "name": "ml.p3.8xlarge",
    "vcpuNum": 32
   },
   {
    "_defaultOrder": 37,
    "_isFastLaunch": false,
    "category": "Accelerated computing",
    "gpuNum": 8,
    "hideHardwareSpecs": false,
    "memoryGiB": 488,
    "name": "ml.p3.16xlarge",
    "vcpuNum": 64
   },
   {
    "_defaultOrder": 38,
    "_isFastLaunch": false,
    "category": "Accelerated computing",
    "gpuNum": 8,
    "hideHardwareSpecs": false,
    "memoryGiB": 768,
    "name": "ml.p3dn.24xlarge",
    "vcpuNum": 96
   },
   {
    "_defaultOrder": 39,
    "_isFastLaunch": false,
    "category": "Memory Optimized",
    "gpuNum": 0,
    "hideHardwareSpecs": false,
    "memoryGiB": 16,
    "name": "ml.r5.large",
    "vcpuNum": 2
   },
   {
    "_defaultOrder": 40,
    "_isFastLaunch": false,
    "category": "Memory Optimized",
    "gpuNum": 0,
    "hideHardwareSpecs": false,
    "memoryGiB": 32,
    "name": "ml.r5.xlarge",
    "vcpuNum": 4
   },
   {
    "_defaultOrder": 41,
    "_isFastLaunch": false,
    "category": "Memory Optimized",
    "gpuNum": 0,
    "hideHardwareSpecs": false,
    "memoryGiB": 64,
    "name": "ml.r5.2xlarge",
    "vcpuNum": 8
   },
   {
    "_defaultOrder": 42,
    "_isFastLaunch": false,
    "category": "Memory Optimized",
    "gpuNum": 0,
    "hideHardwareSpecs": false,
    "memoryGiB": 128,
    "name": "ml.r5.4xlarge",
    "vcpuNum": 16
   },
   {
    "_defaultOrder": 43,
    "_isFastLaunch": false,
    "category": "Memory Optimized",
    "gpuNum": 0,
    "hideHardwareSpecs": false,
    "memoryGiB": 256,
    "name": "ml.r5.8xlarge",
    "vcpuNum": 32
   },
   {
    "_defaultOrder": 44,
    "_isFastLaunch": false,
    "category": "Memory Optimized",
    "gpuNum": 0,
    "hideHardwareSpecs": false,
    "memoryGiB": 384,
    "name": "ml.r5.12xlarge",
    "vcpuNum": 48
   },
   {
    "_defaultOrder": 45,
    "_isFastLaunch": false,
    "category": "Memory Optimized",
    "gpuNum": 0,
    "hideHardwareSpecs": false,
    "memoryGiB": 512,
    "name": "ml.r5.16xlarge",
    "vcpuNum": 64
   },
   {
    "_defaultOrder": 46,
    "_isFastLaunch": false,
    "category": "Memory Optimized",
    "gpuNum": 0,
    "hideHardwareSpecs": false,
    "memoryGiB": 768,
    "name": "ml.r5.24xlarge",
    "vcpuNum": 96
   },
   {
    "_defaultOrder": 47,
    "_isFastLaunch": false,
    "category": "Accelerated computing",
    "gpuNum": 1,
    "hideHardwareSpecs": false,
    "memoryGiB": 16,
    "name": "ml.g5.xlarge",
    "vcpuNum": 4
   },
   {
    "_defaultOrder": 48,
    "_isFastLaunch": false,
    "category": "Accelerated computing",
    "gpuNum": 1,
    "hideHardwareSpecs": false,
    "memoryGiB": 32,
    "name": "ml.g5.2xlarge",
    "vcpuNum": 8
   },
   {
    "_defaultOrder": 49,
    "_isFastLaunch": false,
    "category": "Accelerated computing",
    "gpuNum": 1,
    "hideHardwareSpecs": false,
    "memoryGiB": 64,
    "name": "ml.g5.4xlarge",
    "vcpuNum": 16
   },
   {
    "_defaultOrder": 50,
    "_isFastLaunch": false,
    "category": "Accelerated computing",
    "gpuNum": 1,
    "hideHardwareSpecs": false,
    "memoryGiB": 128,
    "name": "ml.g5.8xlarge",
    "vcpuNum": 32
   },
   {
    "_defaultOrder": 51,
    "_isFastLaunch": false,
    "category": "Accelerated computing",
    "gpuNum": 1,
    "hideHardwareSpecs": false,
    "memoryGiB": 256,
    "name": "ml.g5.16xlarge",
    "vcpuNum": 64
   },
   {
    "_defaultOrder": 52,
    "_isFastLaunch": false,
    "category": "Accelerated computing",
    "gpuNum": 4,
    "hideHardwareSpecs": false,
    "memoryGiB": 192,
    "name": "ml.g5.12xlarge",
    "vcpuNum": 48
   },
   {
    "_defaultOrder": 53,
    "_isFastLaunch": false,
    "category": "Accelerated computing",
    "gpuNum": 4,
    "hideHardwareSpecs": false,
    "memoryGiB": 384,
    "name": "ml.g5.24xlarge",
    "vcpuNum": 96
   },
   {
    "_defaultOrder": 54,
    "_isFastLaunch": false,
    "category": "Accelerated computing",
    "gpuNum": 8,
    "hideHardwareSpecs": false,
    "memoryGiB": 768,
    "name": "ml.g5.48xlarge",
    "vcpuNum": 192
   },
   {
    "_defaultOrder": 55,
    "_isFastLaunch": false,
    "category": "Accelerated computing",
    "gpuNum": 8,
    "hideHardwareSpecs": false,
    "memoryGiB": 1152,
    "name": "ml.p4d.24xlarge",
    "vcpuNum": 96
   },
   {
    "_defaultOrder": 56,
    "_isFastLaunch": false,
    "category": "Accelerated computing",
    "gpuNum": 8,
    "hideHardwareSpecs": false,
    "memoryGiB": 1152,
    "name": "ml.p4de.24xlarge",
    "vcpuNum": 96
   }
  ],
  "instance_type": "ml.t3.medium",
  "kernelspec": {
   "display_name": ".venv",
   "language": "python",
   "name": "python3"
  },
  "language_info": {
   "codemirror_mode": {
    "name": "ipython",
    "version": 3
   },
   "file_extension": ".py",
   "mimetype": "text/x-python",
   "name": "python",
   "nbconvert_exporter": "python",
   "pygments_lexer": "ipython3",
   "version": "3.12.9"
  }
 },
 "nbformat": 4,
 "nbformat_minor": 4
}
